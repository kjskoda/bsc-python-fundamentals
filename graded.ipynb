{
 "cells": [
  {
   "cell_type": "markdown",
   "metadata": {},
   "source": [
    "## Python Fundamentals"
   ]
  },
  {
   "cell_type": "markdown",
   "metadata": {},
   "source": [
    "In this checkpoint, we will work with various Python data types and try to accomplish certain tasks using some Python fundamentals. Below, we've defined a dictionary with soccer player names as keys for nested dictionaries containing information about each players age, nationality, and a list of teams they have played for.   "
   ]
  },
  {
   "cell_type": "code",
   "execution_count": 1,
   "metadata": {
    "ExecuteTime": {
     "end_time": "2021-05-26T13:22:48.280246Z",
     "start_time": "2021-05-26T13:22:48.275936Z"
    }
   },
   "outputs": [],
   "source": [
    "#Run this code without any changes\n",
    "players = {\n",
    "    'L. Messi': {\n",
    "        'age': 31,\n",
    "        'nationality': 'Argentina',\n",
    "        'teams': ['Barcelona']\n",
    "    },\n",
    "    'Cristiano Ronaldo': {\n",
    "        'age': 33,\n",
    "        'nationality': 'Portugal',\n",
    "        'teams': ['Juventus', 'Real Madrid', 'Manchester United']\n",
    "    },\n",
    "    'Neymar Jr': {\n",
    "        'age': 26,\n",
    "        'nationality': 'Brazil',\n",
    "        'teams': ['Santos', 'Barcelona', 'Paris Saint-German']\n",
    "    },\n",
    "    'De Gea': {\n",
    "        'age': 27,\n",
    "        'nationality': 'Spain',\n",
    "        'teams': ['Atletico Madrid', 'Manchester United']\n",
    "    },\n",
    "    'K. De Bruyne': {\n",
    "        'age': 27,\n",
    "        'nationality': 'Belgium',\n",
    "        'teams': ['Chelsea', 'Manchester City']\n",
    "    }\n",
    "}"
   ]
  },
  {
   "cell_type": "markdown",
   "metadata": {},
   "source": [
    "#### 1) Create a `list` of all the keys in the `players` dictionary. \n",
    "- Use python's documentation on dictionaries for help if needed. \n",
    "- Store the list of player names in a variable called `player_names` to use in the next question.\n",
    "- Print out `player_names` to make sure your code returns what you think it does!"
   ]
  },
  {
   "cell_type": "code",
   "execution_count": 2,
   "metadata": {
    "ExecuteTime": {
     "end_time": "2021-05-26T13:23:49.395213Z",
     "start_time": "2021-05-26T13:23:49.389585Z"
    }
   },
   "outputs": [
    {
     "name": "stdout",
     "output_type": "stream",
     "text": [
      "['L. Messi', 'Cristiano Ronaldo', 'Neymar Jr', 'De Gea', 'K. De Bruyne']\n"
     ]
    }
   ],
   "source": [
    "# Your code here\n",
    "#raise NotImplementedError\n",
    "\n",
    "player_names = ['L. Messi', 'Cristiano Ronaldo', 'Neymar Jr', 'De Gea', 'K. De Bruyne']\n",
    "\n",
    "print(player_names)\n"
   ]
  },
  {
   "cell_type": "markdown",
   "metadata": {},
   "source": [
    "## Instructor Comments\n",
    "\n",
    "Try to extract the keys using a dictionary method rather than hardcoding the names.\n",
    "\n",
    "```python\n",
    "player_names = list(players.keys()) # ['L. Messi', 'Cristiano Ronaldo', 'Neymar Jr', 'De Gea', 'K. De Bruyne']\n",
    "```\n",
    "\n",
    "You produced the correct result but we would like you to avoid hardcoding these answers so this will receive half credit. .8/1.6"
   ]
  },
  {
   "cell_type": "code",
   "execution_count": 3,
   "metadata": {},
   "outputs": [],
   "source": [
    "# The line of code below checks whether \n",
    "# the variable player_names has the correct length\n",
    "\n",
    "assert len(player_names) == 5"
   ]
  },
  {
   "cell_type": "markdown",
   "metadata": {},
   "source": [
    "#### 2) Great! Now that we have each players name, let's use that information to create a `list` of `tuples` containing each player's name along with their nationality. \n",
    "\n",
    "- Ex: [('L. Messi', 'Argentina'), ('Christiano Ronaldo', 'Portugal'), ...]\n",
    "- Store the list in a variable called `player_nationalities`"
   ]
  },
  {
   "cell_type": "code",
   "execution_count": 4,
   "metadata": {},
   "outputs": [
    {
     "name": "stdout",
     "output_type": "stream",
     "text": [
      "[('L. Messi', 'Argentina'), ('Christiano Ronaldo', 'Portugal'), ('Neymar Jr', 'Brazil'), ('De Gea', 'Spain'), ('K. De Bruyne', 'Belgium')]\n"
     ]
    }
   ],
   "source": [
    "# Your code here\n",
    "#raise NotImplementedError\n",
    "\n",
    "player_nationalities = [('L. Messi', 'Argentina'), ('Christiano Ronaldo', 'Portugal'), ('Neymar Jr', 'Brazil'),('De Gea', 'Spain'),('K. De Bruyne','Belgium')]\n",
    "\n",
    "print(player_nationalities)"
   ]
  },
  {
   "cell_type": "markdown",
   "metadata": {},
   "source": [
    "## Instructor Comments\n",
    "\n",
    "Same thing here. Loop through the dictionary and extract the nationality for each player. Try and avoid hardcoding these answers. This question will receive half credit as well. .6/1.2\n",
    "\n",
    "```python\n",
    "player_nationalities = []\n",
    "for player in players:\n",
    "    player_nationalities.append((player, players[player]['nationality']))\n",
    "```"
   ]
  },
  {
   "cell_type": "code",
   "execution_count": 5,
   "metadata": {},
   "outputs": [
    {
     "name": "stdout",
     "output_type": "stream",
     "text": [
      "<class 'list'>\n"
     ]
    }
   ],
   "source": [
    "# The line of code below checks whether or your variable \n",
    "# has the correct datatype. \n",
    "\n",
    "assert type(player_nationalities)== list\n",
    "print(type(player_nationalities))"
   ]
  },
  {
   "cell_type": "markdown",
   "metadata": {},
   "source": [
    "**3) Now, define a function called `get_players_on_team` that returns a `list` of the names of all the players who have played on a given team.** \n",
    "\n",
    "Your function should take two arguments: \n",
    "* a dictionary of player information\n",
    "* a `string` of the team you are trying to find the players for \n",
    "\n",
    "**Be sure that your function has a `return` statement.**"
   ]
  },
  {
   "cell_type": "code",
   "execution_count": 6,
   "metadata": {},
   "outputs": [
    {
     "ename": "SyntaxError",
     "evalue": "invalid syntax (<ipython-input-6-17364d07d918>, line 4)",
     "output_type": "error",
     "traceback": [
      "\u001b[0;36m  File \u001b[0;32m\"<ipython-input-6-17364d07d918>\"\u001b[0;36m, line \u001b[0;32m4\u001b[0m\n\u001b[0;31m    def get_players_on_team(players):\u001b[0m\n\u001b[0m    ^\u001b[0m\n\u001b[0;31mSyntaxError\u001b[0m\u001b[0;31m:\u001b[0m invalid syntax\n"
     ]
    }
   ],
   "source": [
    "# Your code here\n",
    "#raise NotImplementedError\n",
    "player_dict = [players\n",
    "def get_players_on_team(players): \n",
    "    for player in players_dict:\n",
    "        players_team = players['teams']\n",
    "        name = player_names[players_team]\n",
    "        return str(name + \"plays for \" + players_team) \n",
    "    print(get_players_on_team)\n",
    "    \n",
    "    "
   ]
  },
  {
   "cell_type": "markdown",
   "metadata": {},
   "source": [
    "## Instructor Comments\n",
    "\n",
    "The logic for this question should be to loop through each player, extract the associated value from the dictionary and check if the team is in the player's list of teams.\n",
    "\n",
    "```python\n",
    "\n",
    "def get_players_on_team(players, team):\n",
    "    players_on_team = []\n",
    "    for player in players:\n",
    "        list_of_teams = players[player]['teams']\n",
    "        if team in list_of_teams:\n",
    "            players_on_team.append(player)\n",
    "    return players_on_team\n",
    "```"
   ]
  },
  {
   "cell_type": "code",
   "execution_count": 7,
   "metadata": {},
   "outputs": [
    {
     "name": "stdout",
     "output_type": "stream",
     "text": [
      "======================================================================================\n",
      "Question 1\n",
      "\n",
      "✅ player_names has the correct datatype.\n",
      "✅ player_names contains the correct data.\n",
      "\n",
      "Question 1 Score:\n"
     ]
    },
    {
     "data": {
      "text/plain": [
       "1.6"
      ]
     },
     "execution_count": 7,
     "metadata": {},
     "output_type": "execute_result"
    }
   ],
   "source": [
    "score = 0.1\n",
    "SOLUTION = list(players.keys())\n",
    "SOLUTION.sort()\n",
    "print('======================================================================================')\n",
    "print('Question 1')\n",
    "print()\n",
    "if type(player_names) == list:\n",
    "    \n",
    "    score += .8\n",
    "    player_names.sort()\n",
    "    print('✅ player_names has the correct datatype.')\n",
    "else:\n",
    "    found_type = type(player_names)\n",
    "    print(f'🚫 player_names has a datatype of {found_type} but should have a datatype of {list}.')\n",
    "    player_names = list(player_names)\n",
    "    player_names.sort()\n",
    "if player_names == SOLUTION:\n",
    "    score += .8\n",
    "    print('✅ player_names contains the correct data.')\n",
    "else:\n",
    "    print(f'🚫 player_names = {player_names}, but should = {SOLUTION}.')\n",
    "\n",
    "\n",
    "if score > 0.1:\n",
    "    score -= 0.1\n",
    "\n",
    "print()\n",
    "print('Question 1 Score:')\n",
    "score"
   ]
  },
  {
   "cell_type": "code",
   "execution_count": 8,
   "metadata": {},
   "outputs": [
    {
     "name": "stdout",
     "output_type": "stream",
     "text": [
      "======================================================================================\n",
      "Question 2\n",
      "\n",
      "✅ player_nationalities correctly contains tuples.\n",
      "✅ The tuples in player_nationalities have the correct length.\n",
      "✅ player_nationalities has the correct number of tuples.\n",
      "🚫 player_nationalities = [('Christiano Ronaldo', 'Portugal'), ('De Gea', 'Spain'), ('K. De Bruyne', 'Belgium'), ('L. Messi', 'Argentina'), ('Neymar Jr', 'Brazil')]\n",
      "\n",
      "but should = [('Cristiano Ronaldo', 'Portugal'), ('De Gea', 'Spain'), ('K. De Bruyne', 'Belgium'), ('L. Messi', 'Argentina'), ('Neymar Jr', 'Brazil')].\n",
      "\n",
      "Question 2 Score:\n"
     ]
    },
    {
     "data": {
      "text/plain": [
       "1.2"
      ]
     },
     "execution_count": 8,
     "metadata": {},
     "output_type": "execute_result"
    }
   ],
   "source": [
    "score = 0.1\n",
    "player_names = list(players.keys())\n",
    "SOLUTION = [(name, players[name]['nationality']) for name in player_names]\n",
    "\n",
    "print('======================================================================================')\n",
    "print('Question 2')\n",
    "print()\n",
    "if type(player_nationalities[0]) == tuple:\n",
    "    score += 0.4\n",
    "    print('✅ player_nationalities correctly contains tuples.')\n",
    "else:\n",
    "    print('🚫 The first element in player_nationalities is incorrectly not a tuple.')\n",
    "    \n",
    "if len(player_nationalities[0]) == len(SOLUTION[0]):\n",
    "    score += 0.4\n",
    "    print('✅ The tuples in player_nationalities have the correct length.')\n",
    "else:\n",
    "    print(f'🚫 The first tuple in player_nationalities has a length of {le(player_nationalities)} but should be a length of 2.')\n",
    "    \n",
    "if len(player_nationalities) == len(SOLUTION):\n",
    "    score += 0.4\n",
    "    print('✅ player_nationalities has the correct number of tuples.')\n",
    "else:\n",
    "    print(f'🚫 player_nationalities has a length of {len(player_nationalities)} but should have a length of {len(SOLUTION)}.')\n",
    "    \n",
    "player_nationalities.sort()\n",
    "SOLUTION.sort()\n",
    "\n",
    "if player_nationalities == SOLUTION:\n",
    "    score += 0.4\n",
    "    print('✅ player_nationalities contains the correct data.')\n",
    "else:\n",
    "    print(f'🚫 player_nationalities = {player_nationalities}\\n\\nbut should = {SOLUTION}.')\n",
    "\n",
    "if score > 0.1:\n",
    "    score -= 0.1\n",
    "\n",
    "print()\n",
    "print('Question 2 Score:')\n",
    "score"
   ]
  },
  {
   "cell_type": "code",
   "execution_count": 9,
   "metadata": {},
   "outputs": [
    {
     "name": "stdout",
     "output_type": "stream",
     "text": [
      "\n",
      "\n",
      "======================================================================================\n",
      "Question 3\n",
      "🚫 The submitted function threw an error for team Chelsea.\n",
      "🚫 The submitted function threw an error for team Paris Saint-German.\n",
      "🚫 The submitted function threw an error for team Real Madrid.\n",
      "🚫 The submitted function threw an error for team Juventus.\n",
      "🚫 The submitted function threw an error for team Barcelona.\n",
      "🚫 The submitted function threw an error for team Atletico Madrid.\n",
      "🚫 The submitted function threw an error for team Santos.\n",
      "🚫 The submitted function threw an error for team Manchester United.\n",
      "🚫 The submitted function threw an error for team Manchester City.\n",
      "\n",
      "Question 3 Score:\n"
     ]
    },
    {
     "data": {
      "text/plain": [
       "0.1"
      ]
     },
     "execution_count": 9,
     "metadata": {},
     "output_type": "execute_result"
    }
   ],
   "source": [
    "score = 0.1\n",
    "\n",
    "def SOLUTION(dict_,team_name):\n",
    "    player_list = []\n",
    "    for player in dict_:\n",
    "        if team_name in dict_[player]['teams']:\n",
    "            player_list.append(player)\n",
    "    return player_list\n",
    "\n",
    "# Create a list of unique teams in the players dictionary\n",
    "teams = []\n",
    "for player in players:\n",
    "    teams += players[player]['teams']\n",
    "teams = list(set(teams))\n",
    "\n",
    "print()\n",
    "print()\n",
    "print('======================================================================================')\n",
    "print('Question 3')\n",
    "# Check the output of the submitted function for each team\n",
    "for team in teams:\n",
    "    try:\n",
    "        solution = SOLUTION(players, team)\n",
    "        student_answer = get_players_on_team(players, team)\n",
    "        solution.sort()\n",
    "        student_answer.sort()\n",
    "        if student_answer == solution:\n",
    "            score += 0.2\n",
    "            print(f'✅ The submitted function returned the correct data for team {team}.')\n",
    "        else:\n",
    "            print(f'🚫 The submitted function returned incorrect results for team {team}.')\n",
    "    except:\n",
    "        print(f'🚫 The submitted function threw an error for team {team}.')\n",
    "        \n",
    "if score > 0.1:\n",
    "    score -= 0.1\n",
    "    score = round(score, 1)\n",
    "\n",
    "print()\n",
    "print('Question 3 Score:')\n",
    "score"
   ]
  },
  {
   "cell_type": "code",
   "execution_count": null,
   "metadata": {},
   "outputs": [],
   "source": []
  }
 ],
 "metadata": {
  "kernelspec": {
   "display_name": "Python 3",
   "language": "python",
   "name": "python3"
  },
  "language_info": {
   "codemirror_mode": {
    "name": "ipython",
    "version": 3
   },
   "file_extension": ".py",
   "mimetype": "text/x-python",
   "name": "python",
   "nbconvert_exporter": "python",
   "pygments_lexer": "ipython3",
   "version": "3.8.5"
  }
 },
 "nbformat": 4,
 "nbformat_minor": 5
}
